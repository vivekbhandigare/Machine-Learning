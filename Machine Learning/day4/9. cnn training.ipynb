{
 "cells": [
  {
   "cell_type": "code",
   "execution_count": 1,
   "metadata": {},
   "outputs": [],
   "source": [
    "import numpy as np"
   ]
  },
  {
   "cell_type": "code",
   "execution_count": 2,
   "metadata": {},
   "outputs": [
    {
     "name": "stderr",
     "output_type": "stream",
     "text": [
      "Using TensorFlow backend.\n"
     ]
    }
   ],
   "source": [
    "from keras.datasets import fashion_mnist"
   ]
  },
  {
   "cell_type": "code",
   "execution_count": 8,
   "metadata": {},
   "outputs": [],
   "source": [
    "(x_train, y_train), (x_test, y_test) = fashion_mnist.load_data()"
   ]
  },
  {
   "cell_type": "code",
   "execution_count": 9,
   "metadata": {},
   "outputs": [
    {
     "data": {
      "text/plain": [
       "((60000, 28, 28), (60000,), (10000, 28, 28), (10000,))"
      ]
     },
     "execution_count": 9,
     "metadata": {},
     "output_type": "execute_result"
    }
   ],
   "source": [
    "x_train.shape, y_train.shape, x_test.shape, y_test.shape"
   ]
  },
  {
   "cell_type": "code",
   "execution_count": 50,
   "metadata": {},
   "outputs": [],
   "source": [
    "import matplotlib.pyplot as plt\n",
    "%matplotlib inline\n",
    "import vis"
   ]
  },
  {
   "cell_type": "code",
   "execution_count": 24,
   "metadata": {},
   "outputs": [
    {
     "data": {
      "text/plain": [
       "{0: 'T-shirt/top',\n",
       " 1: 'Trouser',\n",
       " 2: 'Pullover',\n",
       " 3: 'Dress',\n",
       " 4: 'Coat',\n",
       " 5: 'Sandal',\n",
       " 6: 'Shirt',\n",
       " 7: 'Sneaker',\n",
       " 8: 'Bag',\n",
       " 9: 'Ankle boot'}"
      ]
     },
     "execution_count": 24,
     "metadata": {},
     "output_type": "execute_result"
    }
   ],
   "source": [
    "vis.fashion_mnist_label()"
   ]
  },
  {
   "cell_type": "code",
   "execution_count": 25,
   "metadata": {},
   "outputs": [
    {
     "data": {
      "application/vnd.vegalite.v2+json": {
       "$schema": "https://vega.github.io/schema/vega-lite/v2.6.0.json",
       "config": {
        "view": {
         "height": 300,
         "width": 400
        }
       },
       "data": {
        "name": "data-a757856aca33ab6de754c04949a5bb8b"
       },
       "datasets": {
        "data-a757856aca33ab6de754c04949a5bb8b": [
         {
          "h": 0,
          "value": 0,
          "w": 0
         },
         {
          "h": 1,
          "value": 0,
          "w": 0
         },
         {
          "h": 2,
          "value": 0,
          "w": 0
         },
         {
          "h": 3,
          "value": 0,
          "w": 0
         },
         {
          "h": 4,
          "value": 0,
          "w": 0
         },
         {
          "h": 5,
          "value": 0,
          "w": 0
         },
         {
          "h": 6,
          "value": 0,
          "w": 0
         },
         {
          "h": 7,
          "value": 0,
          "w": 0
         },
         {
          "h": 8,
          "value": 0,
          "w": 0
         },
         {
          "h": 9,
          "value": 0,
          "w": 0
         },
         {
          "h": 10,
          "value": 0,
          "w": 0
         },
         {
          "h": 11,
          "value": 0,
          "w": 0
         },
         {
          "h": 12,
          "value": 0,
          "w": 0
         },
         {
          "h": 13,
          "value": 0,
          "w": 0
         },
         {
          "h": 14,
          "value": 0,
          "w": 0
         },
         {
          "h": 15,
          "value": 0,
          "w": 0
         },
         {
          "h": 16,
          "value": 0,
          "w": 0
         },
         {
          "h": 17,
          "value": 0,
          "w": 0
         },
         {
          "h": 18,
          "value": 3,
          "w": 0
         },
         {
          "h": 19,
          "value": 98,
          "w": 0
         },
         {
          "h": 20,
          "value": 75,
          "w": 0
         },
         {
          "h": 21,
          "value": 48,
          "w": 0
         },
         {
          "h": 22,
          "value": 0,
          "w": 0
         },
         {
          "h": 23,
          "value": 0,
          "w": 0
         },
         {
          "h": 24,
          "value": 2,
          "w": 0
         },
         {
          "h": 25,
          "value": 0,
          "w": 0
         },
         {
          "h": 26,
          "value": 0,
          "w": 0
         },
         {
          "h": 27,
          "value": 0,
          "w": 0
         },
         {
          "h": 0,
          "value": 0,
          "w": 1
         },
         {
          "h": 1,
          "value": 0,
          "w": 1
         },
         {
          "h": 2,
          "value": 0,
          "w": 1
         },
         {
          "h": 3,
          "value": 0,
          "w": 1
         },
         {
          "h": 4,
          "value": 0,
          "w": 1
         },
         {
          "h": 5,
          "value": 0,
          "w": 1
         },
         {
          "h": 6,
          "value": 0,
          "w": 1
         },
         {
          "h": 7,
          "value": 0,
          "w": 1
         },
         {
          "h": 8,
          "value": 0,
          "w": 1
         },
         {
          "h": 9,
          "value": 0,
          "w": 1
         },
         {
          "h": 10,
          "value": 0,
          "w": 1
         },
         {
          "h": 11,
          "value": 0,
          "w": 1
         },
         {
          "h": 12,
          "value": 0,
          "w": 1
         },
         {
          "h": 13,
          "value": 0,
          "w": 1
         },
         {
          "h": 14,
          "value": 0,
          "w": 1
         },
         {
          "h": 15,
          "value": 3,
          "w": 1
         },
         {
          "h": 16,
          "value": 0,
          "w": 1
         },
         {
          "h": 17,
          "value": 57,
          "w": 1
         },
         {
          "h": 18,
          "value": 202,
          "w": 1
         },
         {
          "h": 19,
          "value": 233,
          "w": 1
         },
         {
          "h": 20,
          "value": 204,
          "w": 1
         },
         {
          "h": 21,
          "value": 203,
          "w": 1
         },
         {
          "h": 22,
          "value": 122,
          "w": 1
         },
         {
          "h": 23,
          "value": 0,
          "w": 1
         },
         {
          "h": 24,
          "value": 0,
          "w": 1
         },
         {
          "h": 25,
          "value": 0,
          "w": 1
         },
         {
          "h": 26,
          "value": 0,
          "w": 1
         },
         {
          "h": 27,
          "value": 0,
          "w": 1
         },
         {
          "h": 0,
          "value": 0,
          "w": 2
         },
         {
          "h": 1,
          "value": 0,
          "w": 2
         },
         {
          "h": 2,
          "value": 0,
          "w": 2
         },
         {
          "h": 3,
          "value": 0,
          "w": 2
         },
         {
          "h": 4,
          "value": 0,
          "w": 2
         },
         {
          "h": 5,
          "value": 0,
          "w": 2
         },
         {
          "h": 6,
          "value": 0,
          "w": 2
         },
         {
          "h": 7,
          "value": 0,
          "w": 2
         },
         {
          "h": 8,
          "value": 0,
          "w": 2
         },
         {
          "h": 9,
          "value": 0,
          "w": 2
         },
         {
          "h": 10,
          "value": 0,
          "w": 2
         },
         {
          "h": 11,
          "value": 0,
          "w": 2
         },
         {
          "h": 12,
          "value": 0,
          "w": 2
         },
         {
          "h": 13,
          "value": 0,
          "w": 2
         },
         {
          "h": 14,
          "value": 1,
          "w": 2
         },
         {
          "h": 15,
          "value": 0,
          "w": 2
         },
         {
          "h": 16,
          "value": 0,
          "w": 2
         },
         {
          "h": 17,
          "value": 187,
          "w": 2
         },
         {
          "h": 18,
          "value": 228,
          "w": 2
         },
         {
          "h": 19,
          "value": 198,
          "w": 2
         },
         {
          "h": 20,
          "value": 212,
          "w": 2
         },
         {
          "h": 21,
          "value": 183,
          "w": 2
         },
         {
          "h": 22,
          "value": 219,
          "w": 2
         },
         {
          "h": 23,
          "value": 74,
          "w": 2
         },
         {
          "h": 24,
          "value": 0,
          "w": 2
         },
         {
          "h": 25,
          "value": 0,
          "w": 2
         },
         {
          "h": 26,
          "value": 0,
          "w": 2
         },
         {
          "h": 27,
          "value": 0,
          "w": 2
         },
         {
          "h": 0,
          "value": 0,
          "w": 3
         },
         {
          "h": 1,
          "value": 0,
          "w": 3
         },
         {
          "h": 2,
          "value": 0,
          "w": 3
         },
         {
          "h": 3,
          "value": 0,
          "w": 3
         },
         {
          "h": 4,
          "value": 0,
          "w": 3
         },
         {
          "h": 5,
          "value": 0,
          "w": 3
         },
         {
          "h": 6,
          "value": 0,
          "w": 3
         },
         {
          "h": 7,
          "value": 0,
          "w": 3
         },
         {
          "h": 8,
          "value": 0,
          "w": 3
         },
         {
          "h": 9,
          "value": 0,
          "w": 3
         },
         {
          "h": 10,
          "value": 0,
          "w": 3
         },
         {
          "h": 11,
          "value": 0,
          "w": 3
         },
         {
          "h": 12,
          "value": 0,
          "w": 3
         },
         {
          "h": 13,
          "value": 0,
          "w": 3
         },
         {
          "h": 14,
          "value": 4,
          "w": 3
         },
         {
          "h": 15,
          "value": 0,
          "w": 3
         },
         {
          "h": 16,
          "value": 0,
          "w": 3
         },
         {
          "h": 17,
          "value": 208,
          "w": 3
         },
         {
          "h": 18,
          "value": 224,
          "w": 3
         },
         {
          "h": 19,
          "value": 210,
          "w": 3
         },
         {
          "h": 20,
          "value": 204,
          "w": 3
         },
         {
          "h": 21,
          "value": 194,
          "w": 3
         },
         {
          "h": 22,
          "value": 193,
          "w": 3
         },
         {
          "h": 23,
          "value": 189,
          "w": 3
         },
         {
          "h": 24,
          "value": 0,
          "w": 3
         },
         {
          "h": 25,
          "value": 0,
          "w": 3
         },
         {
          "h": 26,
          "value": 0,
          "w": 3
         },
         {
          "h": 27,
          "value": 0,
          "w": 3
         },
         {
          "h": 0,
          "value": 0,
          "w": 4
         },
         {
          "h": 1,
          "value": 0,
          "w": 4
         },
         {
          "h": 2,
          "value": 0,
          "w": 4
         },
         {
          "h": 3,
          "value": 0,
          "w": 4
         },
         {
          "h": 4,
          "value": 0,
          "w": 4
         },
         {
          "h": 5,
          "value": 0,
          "w": 4
         },
         {
          "h": 6,
          "value": 0,
          "w": 4
         },
         {
          "h": 7,
          "value": 0,
          "w": 4
         },
         {
          "h": 8,
          "value": 0,
          "w": 4
         },
         {
          "h": 9,
          "value": 0,
          "w": 4
         },
         {
          "h": 10,
          "value": 0,
          "w": 4
         },
         {
          "h": 11,
          "value": 0,
          "w": 4
         },
         {
          "h": 12,
          "value": 0,
          "w": 4
         },
         {
          "h": 13,
          "value": 0,
          "w": 4
         },
         {
          "h": 14,
          "value": 6,
          "w": 4
         },
         {
          "h": 15,
          "value": 0,
          "w": 4
         },
         {
          "h": 16,
          "value": 18,
          "w": 4
         },
         {
          "h": 17,
          "value": 224,
          "w": 4
         },
         {
          "h": 18,
          "value": 221,
          "w": 4
         },
         {
          "h": 19,
          "value": 222,
          "w": 4
         },
         {
          "h": 20,
          "value": 193,
          "w": 4
         },
         {
          "h": 21,
          "value": 213,
          "w": 4
         },
         {
          "h": 22,
          "value": 179,
          "w": 4
         },
         {
          "h": 23,
          "value": 212,
          "w": 4
         },
         {
          "h": 24,
          "value": 66,
          "w": 4
         },
         {
          "h": 25,
          "value": 0,
          "w": 4
         },
         {
          "h": 26,
          "value": 0,
          "w": 4
         },
         {
          "h": 27,
          "value": 0,
          "w": 4
         },
         {
          "h": 0,
          "value": 0,
          "w": 5
         },
         {
          "h": 1,
          "value": 0,
          "w": 5
         },
         {
          "h": 2,
          "value": 0,
          "w": 5
         },
         {
          "h": 3,
          "value": 0,
          "w": 5
         },
         {
          "h": 4,
          "value": 0,
          "w": 5
         },
         {
          "h": 5,
          "value": 0,
          "w": 5
         },
         {
          "h": 6,
          "value": 0,
          "w": 5
         },
         {
          "h": 7,
          "value": 0,
          "w": 5
         },
         {
          "h": 8,
          "value": 0,
          "w": 5
         },
         {
          "h": 9,
          "value": 0,
          "w": 5
         },
         {
          "h": 10,
          "value": 0,
          "w": 5
         },
         {
          "h": 11,
          "value": 0,
          "w": 5
         },
         {
          "h": 12,
          "value": 0,
          "w": 5
         },
         {
          "h": 13,
          "value": 0,
          "w": 5
         },
         {
          "h": 14,
          "value": 7,
          "w": 5
         },
         {
          "h": 15,
          "value": 0,
          "w": 5
         },
         {
          "h": 16,
          "value": 44,
          "w": 5
         },
         {
          "h": 17,
          "value": 221,
          "w": 5
         },
         {
          "h": 18,
          "value": 211,
          "w": 5
         },
         {
          "h": 19,
          "value": 229,
          "w": 5
         },
         {
          "h": 20,
          "value": 205,
          "w": 5
         },
         {
          "h": 21,
          "value": 197,
          "w": 5
         },
         {
          "h": 22,
          "value": 171,
          "w": 5
         },
         {
          "h": 23,
          "value": 191,
          "w": 5
         },
         {
          "h": 24,
          "value": 200,
          "w": 5
         },
         {
          "h": 25,
          "value": 0,
          "w": 5
         },
         {
          "h": 26,
          "value": 0,
          "w": 5
         },
         {
          "h": 27,
          "value": 0,
          "w": 5
         },
         {
          "h": 0,
          "value": 0,
          "w": 6
         },
         {
          "h": 1,
          "value": 0,
          "w": 6
         },
         {
          "h": 2,
          "value": 0,
          "w": 6
         },
         {
          "h": 3,
          "value": 0,
          "w": 6
         },
         {
          "h": 4,
          "value": 0,
          "w": 6
         },
         {
          "h": 5,
          "value": 0,
          "w": 6
         },
         {
          "h": 6,
          "value": 0,
          "w": 6
         },
         {
          "h": 7,
          "value": 0,
          "w": 6
         },
         {
          "h": 8,
          "value": 0,
          "w": 6
         },
         {
          "h": 9,
          "value": 0,
          "w": 6
         },
         {
          "h": 10,
          "value": 0,
          "w": 6
         },
         {
          "h": 11,
          "value": 0,
          "w": 6
         },
         {
          "h": 12,
          "value": 0,
          "w": 6
         },
         {
          "h": 13,
          "value": 0,
          "w": 6
         },
         {
          "h": 14,
          "value": 2,
          "w": 6
         },
         {
          "h": 15,
          "value": 0,
          "w": 6
         },
         {
          "h": 16,
          "value": 82,
          "w": 6
         },
         {
          "h": 17,
          "value": 224,
          "w": 6
         },
         {
          "h": 18,
          "value": 211,
          "w": 6
         },
         {
          "h": 19,
          "value": 229,
          "w": 6
         },
         {
          "h": 20,
          "value": 211,
          "w": 6
         },
         {
          "h": 21,
          "value": 185,
          "w": 6
         },
         {
          "h": 22,
          "value": 183,
          "w": 6
         },
         {
          "h": 23,
          "value": 175,
          "w": 6
         },
         {
          "h": 24,
          "value": 222,
          "w": 6
         },
         {
          "h": 25,
          "value": 0,
          "w": 6
         },
         {
          "h": 26,
          "value": 0,
          "w": 6
         },
         {
          "h": 27,
          "value": 0,
          "w": 6
         },
         {
          "h": 0,
          "value": 0,
          "w": 7
         },
         {
          "h": 1,
          "value": 0,
          "w": 7
         },
         {
          "h": 2,
          "value": 0,
          "w": 7
         },
         {
          "h": 3,
          "value": 0,
          "w": 7
         },
         {
          "h": 4,
          "value": 0,
          "w": 7
         },
         {
          "h": 5,
          "value": 0,
          "w": 7
         },
         {
          "h": 6,
          "value": 0,
          "w": 7
         },
         {
          "h": 7,
          "value": 0,
          "w": 7
         },
         {
          "h": 8,
          "value": 0,
          "w": 7
         },
         {
          "h": 9,
          "value": 0,
          "w": 7
         },
         {
          "h": 10,
          "value": 0,
          "w": 7
         },
         {
          "h": 11,
          "value": 0,
          "w": 7
         },
         {
          "h": 12,
          "value": 0,
          "w": 7
         },
         {
          "h": 13,
          "value": 0,
          "w": 7
         },
         {
          "h": 14,
          "value": 0,
          "w": 7
         },
         {
          "h": 15,
          "value": 0,
          "w": 7
         },
         {
          "h": 16,
          "value": 107,
          "w": 7
         },
         {
          "h": 17,
          "value": 208,
          "w": 7
         },
         {
          "h": 18,
          "value": 214,
          "w": 7
         },
         {
          "h": 19,
          "value": 234,
          "w": 7
         },
         {
          "h": 20,
          "value": 225,
          "w": 7
         },
         {
          "h": 21,
          "value": 190,
          "w": 7
         },
         {
          "h": 22,
          "value": 196,
          "w": 7
         },
         {
          "h": 23,
          "value": 172,
          "w": 7
         },
         {
          "h": 24,
          "value": 237,
          "w": 7
         },
         {
          "h": 25,
          "value": 40,
          "w": 7
         },
         {
          "h": 26,
          "value": 0,
          "w": 7
         },
         {
          "h": 27,
          "value": 0,
          "w": 7
         },
         {
          "h": 0,
          "value": 0,
          "w": 8
         },
         {
          "h": 1,
          "value": 0,
          "w": 8
         },
         {
          "h": 2,
          "value": 0,
          "w": 8
         },
         {
          "h": 3,
          "value": 0,
          "w": 8
         },
         {
          "h": 4,
          "value": 0,
          "w": 8
         },
         {
          "h": 5,
          "value": 0,
          "w": 8
         },
         {
          "h": 6,
          "value": 0,
          "w": 8
         },
         {
          "h": 7,
          "value": 0,
          "w": 8
         },
         {
          "h": 8,
          "value": 0,
          "w": 8
         },
         {
          "h": 9,
          "value": 0,
          "w": 8
         },
         {
          "h": 10,
          "value": 0,
          "w": 8
         },
         {
          "h": 11,
          "value": 0,
          "w": 8
         },
         {
          "h": 12,
          "value": 0,
          "w": 8
         },
         {
          "h": 13,
          "value": 0,
          "w": 8
         },
         {
          "h": 14,
          "value": 0,
          "w": 8
         },
         {
          "h": 15,
          "value": 0,
          "w": 8
         },
         {
          "h": 16,
          "value": 189,
          "w": 8
         },
         {
          "h": 17,
          "value": 204,
          "w": 8
         },
         {
          "h": 18,
          "value": 205,
          "w": 8
         },
         {
          "h": 19,
          "value": 249,
          "w": 8
         },
         {
          "h": 20,
          "value": 216,
          "w": 8
         },
         {
          "h": 21,
          "value": 194,
          "w": 8
         },
         {
          "h": 22,
          "value": 204,
          "w": 8
         },
         {
          "h": 23,
          "value": 175,
          "w": 8
         },
         {
          "h": 24,
          "value": 239,
          "w": 8
         },
         {
          "h": 25,
          "value": 61,
          "w": 8
         },
         {
          "h": 26,
          "value": 0,
          "w": 8
         },
         {
          "h": 27,
          "value": 0,
          "w": 8
         },
         {
          "h": 0,
          "value": 0,
          "w": 9
         },
         {
          "h": 1,
          "value": 0,
          "w": 9
         },
         {
          "h": 2,
          "value": 0,
          "w": 9
         },
         {
          "h": 3,
          "value": 0,
          "w": 9
         },
         {
          "h": 4,
          "value": 0,
          "w": 9
         },
         {
          "h": 5,
          "value": 0,
          "w": 9
         },
         {
          "h": 6,
          "value": 0,
          "w": 9
         },
         {
          "h": 7,
          "value": 0,
          "w": 9
         },
         {
          "h": 8,
          "value": 1,
          "w": 9
         },
         {
          "h": 9,
          "value": 0,
          "w": 9
         },
         {
          "h": 10,
          "value": 0,
          "w": 9
         },
         {
          "h": 11,
          "value": 1,
          "w": 9
         },
         {
          "h": 12,
          "value": 0,
          "w": 9
         },
         {
          "h": 13,
          "value": 4,
          "w": 9
         },
         {
          "h": 14,
          "value": 0,
          "w": 9
         },
         {
          "h": 15,
          "value": 62,
          "w": 9
         },
         {
          "h": 16,
          "value": 228,
          "w": 9
         },
         {
          "h": 17,
          "value": 214,
          "w": 9
         },
         {
          "h": 18,
          "value": 205,
          "w": 9
         },
         {
          "h": 19,
          "value": 220,
          "w": 9
         },
         {
          "h": 20,
          "value": 185,
          "w": 9
         },
         {
          "h": 21,
          "value": 192,
          "w": 9
         },
         {
          "h": 22,
          "value": 210,
          "w": 9
         },
         {
          "h": 23,
          "value": 181,
          "w": 9
         },
         {
          "h": 24,
          "value": 242,
          "w": 9
         },
         {
          "h": 25,
          "value": 44,
          "w": 9
         },
         {
          "h": 26,
          "value": 0,
          "w": 9
         },
         {
          "h": 27,
          "value": 0,
          "w": 9
         },
         {
          "h": 0,
          "value": 0,
          "w": 10
         },
         {
          "h": 1,
          "value": 0,
          "w": 10
         },
         {
          "h": 2,
          "value": 0,
          "w": 10
         },
         {
          "h": 3,
          "value": 0,
          "w": 10
         },
         {
          "h": 4,
          "value": 0,
          "w": 10
         },
         {
          "h": 5,
          "value": 0,
          "w": 10
         },
         {
          "h": 6,
          "value": 0,
          "w": 10
         },
         {
          "h": 7,
          "value": 0,
          "w": 10
         },
         {
          "h": 8,
          "value": 1,
          "w": 10
         },
         {
          "h": 9,
          "value": 0,
          "w": 10
         },
         {
          "h": 10,
          "value": 0,
          "w": 10
         },
         {
          "h": 11,
          "value": 3,
          "w": 10
         },
         {
          "h": 12,
          "value": 6,
          "w": 10
         },
         {
          "h": 13,
          "value": 0,
          "w": 10
         },
         {
          "h": 14,
          "value": 0,
          "w": 10
         },
         {
          "h": 15,
          "value": 145,
          "w": 10
         },
         {
          "h": 16,
          "value": 220,
          "w": 10
         },
         {
          "h": 17,
          "value": 208,
          "w": 10
         },
         {
          "h": 18,
          "value": 205,
          "w": 10
         },
         {
          "h": 19,
          "value": 194,
          "w": 10
         },
         {
          "h": 20,
          "value": 197,
          "w": 10
         },
         {
          "h": 21,
          "value": 202,
          "w": 10
         },
         {
          "h": 22,
          "value": 213,
          "w": 10
         },
         {
          "h": 23,
          "value": 185,
          "w": 10
         },
         {
          "h": 24,
          "value": 246,
          "w": 10
         },
         {
          "h": 25,
          "value": 72,
          "w": 10
         },
         {
          "h": 26,
          "value": 0,
          "w": 10
         },
         {
          "h": 27,
          "value": 0,
          "w": 10
         },
         {
          "h": 0,
          "value": 0,
          "w": 11
         },
         {
          "h": 1,
          "value": 0,
          "w": 11
         },
         {
          "h": 2,
          "value": 0,
          "w": 11
         },
         {
          "h": 3,
          "value": 0,
          "w": 11
         },
         {
          "h": 4,
          "value": 0,
          "w": 11
         },
         {
          "h": 5,
          "value": 0,
          "w": 11
         },
         {
          "h": 6,
          "value": 0,
          "w": 11
         },
         {
          "h": 7,
          "value": 1,
          "w": 11
         },
         {
          "h": 8,
          "value": 1,
          "w": 11
         },
         {
          "h": 9,
          "value": 0,
          "w": 11
         },
         {
          "h": 10,
          "value": 0,
          "w": 11
         },
         {
          "h": 11,
          "value": 0,
          "w": 11
         },
         {
          "h": 12,
          "value": 0,
          "w": 11
         },
         {
          "h": 13,
          "value": 0,
          "w": 11
         },
         {
          "h": 14,
          "value": 0,
          "w": 11
         },
         {
          "h": 15,
          "value": 204,
          "w": 11
         },
         {
          "h": 16,
          "value": 222,
          "w": 11
         },
         {
          "h": 17,
          "value": 209,
          "w": 11
         },
         {
          "h": 18,
          "value": 220,
          "w": 11
         },
         {
          "h": 19,
          "value": 215,
          "w": 11
         },
         {
          "h": 20,
          "value": 206,
          "w": 11
         },
         {
          "h": 21,
          "value": 214,
          "w": 11
         },
         {
          "h": 22,
          "value": 207,
          "w": 11
         },
         {
          "h": 23,
          "value": 188,
          "w": 11
         },
         {
          "h": 24,
          "value": 243,
          "w": 11
         },
         {
          "h": 25,
          "value": 41,
          "w": 11
         },
         {
          "h": 26,
          "value": 0,
          "w": 11
         },
         {
          "h": 27,
          "value": 0,
          "w": 11
         },
         {
          "h": 0,
          "value": 0,
          "w": 12
         },
         {
          "h": 1,
          "value": 0,
          "w": 12
         },
         {
          "h": 2,
          "value": 0,
          "w": 12
         },
         {
          "h": 3,
          "value": 1,
          "w": 12
         },
         {
          "h": 4,
          "value": 3,
          "w": 12
         },
         {
          "h": 5,
          "value": 6,
          "w": 12
         },
         {
          "h": 6,
          "value": 0,
          "w": 12
         },
         {
          "h": 7,
          "value": 0,
          "w": 12
         },
         {
          "h": 8,
          "value": 0,
          "w": 12
         },
         {
          "h": 9,
          "value": 0,
          "w": 12
         },
         {
          "h": 10,
          "value": 0,
          "w": 12
         },
         {
          "h": 11,
          "value": 12,
          "w": 12
         },
         {
          "h": 12,
          "value": 99,
          "w": 12
         },
         {
          "h": 13,
          "value": 55,
          "w": 12
         },
         {
          "h": 14,
          "value": 237,
          "w": 12
         },
         {
          "h": 15,
          "value": 228,
          "w": 12
         },
         {
          "h": 16,
          "value": 217,
          "w": 12
         },
         {
          "h": 17,
          "value": 200,
          "w": 12
         },
         {
          "h": 18,
          "value": 240,
          "w": 12
         },
         {
          "h": 19,
          "value": 217,
          "w": 12
         },
         {
          "h": 20,
          "value": 198,
          "w": 12
         },
         {
          "h": 21,
          "value": 219,
          "w": 12
         },
         {
          "h": 22,
          "value": 211,
          "w": 12
         },
         {
          "h": 23,
          "value": 189,
          "w": 12
         },
         {
          "h": 24,
          "value": 244,
          "w": 12
         },
         {
          "h": 25,
          "value": 35,
          "w": 12
         },
         {
          "h": 26,
          "value": 0,
          "w": 12
         },
         {
          "h": 27,
          "value": 0,
          "w": 12
         },
         {
          "h": 0,
          "value": 0,
          "w": 13
         },
         {
          "h": 1,
          "value": 0,
          "w": 13
         },
         {
          "h": 2,
          "value": 0,
          "w": 13
         },
         {
          "h": 3,
          "value": 0,
          "w": 13
         },
         {
          "h": 4,
          "value": 0,
          "w": 13
         },
         {
          "h": 5,
          "value": 0,
          "w": 13
         },
         {
          "h": 6,
          "value": 0,
          "w": 13
         },
         {
          "h": 7,
          "value": 69,
          "w": 13
         },
         {
          "h": 8,
          "value": 200,
          "w": 13
         },
         {
          "h": 9,
          "value": 183,
          "w": 13
         },
         {
          "h": 10,
          "value": 193,
          "w": 13
         },
         {
          "h": 11,
          "value": 219,
          "w": 13
         },
         {
          "h": 12,
          "value": 244,
          "w": 13
         },
         {
          "h": 13,
          "value": 236,
          "w": 13
         },
         {
          "h": 14,
          "value": 226,
          "w": 13
         },
         {
          "h": 15,
          "value": 207,
          "w": 13
         },
         {
          "h": 16,
          "value": 226,
          "w": 13
         },
         {
          "h": 17,
          "value": 159,
          "w": 13
         },
         {
          "h": 18,
          "value": 80,
          "w": 13
         },
         {
          "h": 19,
          "value": 241,
          "w": 13
         },
         {
          "h": 20,
          "value": 213,
          "w": 13
         },
         {
          "h": 21,
          "value": 221,
          "w": 13
         },
         {
          "h": 22,
          "value": 210,
          "w": 13
         },
         {
          "h": 23,
          "value": 188,
          "w": 13
         },
         {
          "h": 24,
          "value": 221,
          "w": 13
         },
         {
          "h": 25,
          "value": 0,
          "w": 13
         },
         {
          "h": 26,
          "value": 0,
          "w": 13
         },
         {
          "h": 27,
          "value": 0,
          "w": 13
         },
         {
          "h": 0,
          "value": 0,
          "w": 14
         },
         {
          "h": 1,
          "value": 0,
          "w": 14
         },
         {
          "h": 2,
          "value": 0,
          "w": 14
         },
         {
          "h": 3,
          "value": 0,
          "w": 14
         },
         {
          "h": 4,
          "value": 36,
          "w": 14
         },
         {
          "h": 5,
          "value": 102,
          "w": 14
         },
         {
          "h": 6,
          "value": 155,
          "w": 14
         },
         {
          "h": 7,
          "value": 207,
          "w": 14
         },
         {
          "h": 8,
          "value": 232,
          "w": 14
         },
         {
          "h": 9,
          "value": 225,
          "w": 14
         },
         {
          "h": 10,
          "value": 228,
          "w": 14
         },
         {
          "h": 11,
          "value": 220,
          "w": 14
         },
         {
          "h": 12,
          "value": 222,
          "w": 14
         },
         {
          "h": 13,
          "value": 228,
          "w": 14
         },
         {
          "h": 14,
          "value": 217,
          "w": 14
         },
         {
          "h": 15,
          "value": 213,
          "w": 14
         },
         {
          "h": 16,
          "value": 200,
          "w": 14
         },
         {
          "h": 17,
          "value": 245,
          "w": 14
         },
         {
          "h": 18,
          "value": 150,
          "w": 14
         },
         {
          "h": 19,
          "value": 65,
          "w": 14
         },
         {
          "h": 20,
          "value": 240,
          "w": 14
         },
         {
          "h": 21,
          "value": 220,
          "w": 14
         },
         {
          "h": 22,
          "value": 200,
          "w": 14
         },
         {
          "h": 23,
          "value": 193,
          "w": 14
         },
         {
          "h": 24,
          "value": 220,
          "w": 14
         },
         {
          "h": 25,
          "value": 0,
          "w": 14
         },
         {
          "h": 26,
          "value": 0,
          "w": 14
         },
         {
          "h": 27,
          "value": 0,
          "w": 14
         },
         {
          "h": 0,
          "value": 0,
          "w": 15
         },
         {
          "h": 1,
          "value": 0,
          "w": 15
         },
         {
          "h": 2,
          "value": 0,
          "w": 15
         },
         {
          "h": 3,
          "value": 13,
          "w": 15
         },
         {
          "h": 4,
          "value": 136,
          "w": 15
         },
         {
          "h": 5,
          "value": 204,
          "w": 15
         },
         {
          "h": 6,
          "value": 236,
          "w": 15
         },
         {
          "h": 7,
          "value": 223,
          "w": 15
         },
         {
          "h": 8,
          "value": 232,
          "w": 15
         },
         {
          "h": 9,
          "value": 216,
          "w": 15
         },
         {
          "h": 10,
          "value": 218,
          "w": 15
         },
         {
          "h": 11,
          "value": 212,
          "w": 15
         },
         {
          "h": 12,
          "value": 220,
          "w": 15
         },
         {
          "h": 13,
          "value": 230,
          "w": 15
         },
         {
          "h": 14,
          "value": 223,
          "w": 15
         },
         {
          "h": 15,
          "value": 221,
          "w": 15
         },
         {
          "h": 16,
          "value": 205,
          "w": 15
         },
         {
          "h": 17,
          "value": 193,
          "w": 15
         },
         {
          "h": 18,
          "value": 255,
          "w": 15
         },
         {
          "h": 19,
          "value": 73,
          "w": 15
         },
         {
          "h": 20,
          "value": 195,
          "w": 15
         },
         {
          "h": 21,
          "value": 236,
          "w": 15
         },
         {
          "h": 22,
          "value": 196,
          "w": 15
         },
         {
          "h": 23,
          "value": 198,
          "w": 15
         },
         {
          "h": 24,
          "value": 193,
          "w": 15
         },
         {
          "h": 25,
          "value": 0,
          "w": 15
         },
         {
          "h": 26,
          "value": 0,
          "w": 15
         },
         {
          "h": 27,
          "value": 0,
          "w": 15
         },
         {
          "h": 0,
          "value": 0,
          "w": 16
         },
         {
          "h": 1,
          "value": 0,
          "w": 16
         },
         {
          "h": 2,
          "value": 0,
          "w": 16
         },
         {
          "h": 3,
          "value": 73,
          "w": 16
         },
         {
          "h": 4,
          "value": 127,
          "w": 16
         },
         {
          "h": 5,
          "value": 176,
          "w": 16
         },
         {
          "h": 6,
          "value": 207,
          "w": 16
         },
         {
          "h": 7,
          "value": 218,
          "w": 16
         },
         {
          "h": 8,
          "value": 233,
          "w": 16
         },
         {
          "h": 9,
          "value": 223,
          "w": 16
         },
         {
          "h": 10,
          "value": 213,
          "w": 16
         },
         {
          "h": 11,
          "value": 218,
          "w": 16
         },
         {
          "h": 12,
          "value": 218,
          "w": 16
         },
         {
          "h": 13,
          "value": 228,
          "w": 16
         },
         {
          "h": 14,
          "value": 222,
          "w": 16
         },
         {
          "h": 15,
          "value": 218,
          "w": 16
         },
         {
          "h": 16,
          "value": 211,
          "w": 16
         },
         {
          "h": 17,
          "value": 206,
          "w": 16
         },
         {
          "h": 18,
          "value": 229,
          "w": 16
         },
         {
          "h": 19,
          "value": 106,
          "w": 16
         },
         {
          "h": 20,
          "value": 227,
          "w": 16
         },
         {
          "h": 21,
          "value": 225,
          "w": 16
         },
         {
          "h": 22,
          "value": 194,
          "w": 16
         },
         {
          "h": 23,
          "value": 204,
          "w": 16
         },
         {
          "h": 24,
          "value": 191,
          "w": 16
         },
         {
          "h": 25,
          "value": 0,
          "w": 16
         },
         {
          "h": 26,
          "value": 0,
          "w": 16
         },
         {
          "h": 27,
          "value": 0,
          "w": 16
         },
         {
          "h": 0,
          "value": 0,
          "w": 17
         },
         {
          "h": 1,
          "value": 0,
          "w": 17
         },
         {
          "h": 2,
          "value": 0,
          "w": 17
         },
         {
          "h": 3,
          "value": 0,
          "w": 17
         },
         {
          "h": 4,
          "value": 62,
          "w": 17
         },
         {
          "h": 5,
          "value": 134,
          "w": 17
         },
         {
          "h": 6,
          "value": 178,
          "w": 17
         },
         {
          "h": 7,
          "value": 216,
          "w": 17
         },
         {
          "h": 8,
          "value": 229,
          "w": 17
         },
         {
          "h": 9,
          "value": 228,
          "w": 17
         },
         {
          "h": 10,
          "value": 198,
          "w": 17
         },
         {
          "h": 11,
          "value": 192,
          "w": 17
         },
         {
          "h": 12,
          "value": 203,
          "w": 17
         },
         {
          "h": 13,
          "value": 240,
          "w": 17
         },
         {
          "h": 14,
          "value": 219,
          "w": 17
         },
         {
          "h": 15,
          "value": 208,
          "w": 17
         },
         {
          "h": 16,
          "value": 230,
          "w": 17
         },
         {
          "h": 17,
          "value": 223,
          "w": 17
         },
         {
          "h": 18,
          "value": 221,
          "w": 17
         },
         {
          "h": 19,
          "value": 117,
          "w": 17
         },
         {
          "h": 20,
          "value": 245,
          "w": 17
         },
         {
          "h": 21,
          "value": 216,
          "w": 17
         },
         {
          "h": 22,
          "value": 191,
          "w": 17
         },
         {
          "h": 23,
          "value": 209,
          "w": 17
         },
         {
          "h": 24,
          "value": 179,
          "w": 17
         },
         {
          "h": 25,
          "value": 0,
          "w": 17
         },
         {
          "h": 26,
          "value": 0,
          "w": 17
         },
         {
          "h": 27,
          "value": 0,
          "w": 17
         },
         {
          "h": 0,
          "value": 0,
          "w": 18
         },
         {
          "h": 1,
          "value": 0,
          "w": 18
         },
         {
          "h": 2,
          "value": 0,
          "w": 18
         },
         {
          "h": 3,
          "value": 0,
          "w": 18
         },
         {
          "h": 4,
          "value": 54,
          "w": 18
         },
         {
          "h": 5,
          "value": 144,
          "w": 18
         },
         {
          "h": 6,
          "value": 107,
          "w": 18
         },
         {
          "h": 7,
          "value": 216,
          "w": 18
         },
         {
          "h": 8,
          "value": 223,
          "w": 18
         },
         {
          "h": 9,
          "value": 235,
          "w": 18
         },
         {
          "h": 10,
          "value": 180,
          "w": 18
         },
         {
          "h": 11,
          "value": 169,
          "w": 18
         },
         {
          "h": 12,
          "value": 198,
          "w": 18
         },
         {
          "h": 13,
          "value": 232,
          "w": 18
         },
         {
          "h": 14,
          "value": 222,
          "w": 18
         },
         {
          "h": 15,
          "value": 211,
          "w": 18
         },
         {
          "h": 16,
          "value": 224,
          "w": 18
         },
         {
          "h": 17,
          "value": 255,
          "w": 18
         },
         {
          "h": 18,
          "value": 188,
          "w": 18
         },
         {
          "h": 19,
          "value": 168,
          "w": 18
         },
         {
          "h": 20,
          "value": 239,
          "w": 18
         },
         {
          "h": 21,
          "value": 199,
          "w": 18
         },
         {
          "h": 22,
          "value": 195,
          "w": 18
         },
         {
          "h": 23,
          "value": 210,
          "w": 18
         },
         {
          "h": 24,
          "value": 182,
          "w": 18
         },
         {
          "h": 25,
          "value": 0,
          "w": 18
         },
         {
          "h": 26,
          "value": 0,
          "w": 18
         },
         {
          "h": 27,
          "value": 0,
          "w": 18
         },
         {
          "h": 0,
          "value": 0,
          "w": 19
         },
         {
          "h": 1,
          "value": 0,
          "w": 19
         },
         {
          "h": 2,
          "value": 0,
          "w": 19
         },
         {
          "h": 3,
          "value": 1,
          "w": 19
         },
         {
          "h": 4,
          "value": 0,
          "w": 19
         },
         {
          "h": 5,
          "value": 123,
          "w": 19
         },
         {
          "h": 6,
          "value": 156,
          "w": 19
         },
         {
          "h": 7,
          "value": 163,
          "w": 19
         },
         {
          "h": 8,
          "value": 223,
          "w": 19
         },
         {
          "h": 9,
          "value": 227,
          "w": 19
         },
         {
          "h": 10,
          "value": 212,
          "w": 19
         },
         {
          "h": 11,
          "value": 227,
          "w": 19
         },
         {
          "h": 12,
          "value": 221,
          "w": 19
         },
         {
          "h": 13,
          "value": 213,
          "w": 19
         },
         {
          "h": 14,
          "value": 221,
          "w": 19
         },
         {
          "h": 15,
          "value": 218,
          "w": 19
         },
         {
          "h": 16,
          "value": 234,
          "w": 19
         },
         {
          "h": 17,
          "value": 255,
          "w": 19
         },
         {
          "h": 18,
          "value": 154,
          "w": 19
         },
         {
          "h": 19,
          "value": 219,
          "w": 19
         },
         {
          "h": 20,
          "value": 223,
          "w": 19
         },
         {
          "h": 21,
          "value": 206,
          "w": 19
         },
         {
          "h": 22,
          "value": 191,
          "w": 19
         },
         {
          "h": 23,
          "value": 210,
          "w": 19
         },
         {
          "h": 24,
          "value": 182,
          "w": 19
         },
         {
          "h": 25,
          "value": 0,
          "w": 19
         },
         {
          "h": 26,
          "value": 0,
          "w": 19
         },
         {
          "h": 27,
          "value": 0,
          "w": 19
         },
         {
          "h": 0,
          "value": 0,
          "w": 20
         },
         {
          "h": 1,
          "value": 0,
          "w": 20
         },
         {
          "h": 2,
          "value": 0,
          "w": 20
         },
         {
          "h": 3,
          "value": 4,
          "w": 20
         },
         {
          "h": 4,
          "value": 0,
          "w": 20
         },
         {
          "h": 5,
          "value": 23,
          "w": 20
         },
         {
          "h": 6,
          "value": 161,
          "w": 20
         },
         {
          "h": 7,
          "value": 127,
          "w": 20
         },
         {
          "h": 8,
          "value": 215,
          "w": 20
         },
         {
          "h": 9,
          "value": 224,
          "w": 20
         },
         {
          "h": 10,
          "value": 210,
          "w": 20
         },
         {
          "h": 11,
          "value": 208,
          "w": 20
         },
         {
          "h": 12,
          "value": 215,
          "w": 20
         },
         {
          "h": 13,
          "value": 218,
          "w": 20
         },
         {
          "h": 14,
          "value": 216,
          "w": 20
         },
         {
          "h": 15,
          "value": 224,
          "w": 20
         },
         {
          "h": 16,
          "value": 176,
          "w": 20
         },
         {
          "h": 17,
          "value": 221,
          "w": 20
         },
         {
          "h": 18,
          "value": 191,
          "w": 20
         },
         {
          "h": 19,
          "value": 221,
          "w": 20
         },
         {
          "h": 20,
          "value": 218,
          "w": 20
         },
         {
          "h": 21,
          "value": 186,
          "w": 20
         },
         {
          "h": 22,
          "value": 198,
          "w": 20
         },
         {
          "h": 23,
          "value": 211,
          "w": 20
         },
         {
          "h": 24,
          "value": 181,
          "w": 20
         },
         {
          "h": 25,
          "value": 0,
          "w": 20
         },
         {
          "h": 26,
          "value": 0,
          "w": 20
         },
         {
          "h": 27,
          "value": 0,
          "w": 20
         },
         {
          "h": 0,
          "value": 0,
          "w": 21
         },
         {
          "h": 1,
          "value": 0,
          "w": 21
         },
         {
          "h": 2,
          "value": 0,
          "w": 21
         },
         {
          "h": 3,
          "value": 0,
          "w": 21
         },
         {
          "h": 4,
          "value": 0,
          "w": 21
         },
         {
          "h": 5,
          "value": 0,
          "w": 21
         },
         {
          "h": 6,
          "value": 109,
          "w": 21
         },
         {
          "h": 7,
          "value": 121,
          "w": 21
         },
         {
          "h": 8,
          "value": 213,
          "w": 21
         },
         {
          "h": 9,
          "value": 222,
          "w": 21
         },
         {
          "h": 10,
          "value": 211,
          "w": 21
         },
         {
          "h": 11,
          "value": 218,
          "w": 21
         },
         {
          "h": 12,
          "value": 213,
          "w": 21
         },
         {
          "h": 13,
          "value": 223,
          "w": 21
         },
         {
          "h": 14,
          "value": 223,
          "w": 21
         },
         {
          "h": 15,
          "value": 223,
          "w": 21
         },
         {
          "h": 16,
          "value": 188,
          "w": 21
         },
         {
          "h": 17,
          "value": 234,
          "w": 21
         },
         {
          "h": 18,
          "value": 210,
          "w": 21
         },
         {
          "h": 19,
          "value": 215,
          "w": 21
         },
         {
          "h": 20,
          "value": 212,
          "w": 21
         },
         {
          "h": 21,
          "value": 181,
          "w": 21
         },
         {
          "h": 22,
          "value": 192,
          "w": 21
         },
         {
          "h": 23,
          "value": 188,
          "w": 21
         },
         {
          "h": 24,
          "value": 176,
          "w": 21
         },
         {
          "h": 25,
          "value": 0,
          "w": 21
         },
         {
          "h": 26,
          "value": 0,
          "w": 21
         },
         {
          "h": 27,
          "value": 0,
          "w": 21
         },
         {
          "h": 0,
          "value": 0,
          "w": 22
         },
         {
          "h": 1,
          "value": 0,
          "w": 22
         },
         {
          "h": 2,
          "value": 0,
          "w": 22
         },
         {
          "h": 3,
          "value": 0,
          "w": 22
         },
         {
          "h": 4,
          "value": 1,
          "w": 22
         },
         {
          "h": 5,
          "value": 0,
          "w": 22
         },
         {
          "h": 6,
          "value": 64,
          "w": 22
         },
         {
          "h": 7,
          "value": 122,
          "w": 22
         },
         {
          "h": 8,
          "value": 164,
          "w": 22
         },
         {
          "h": 9,
          "value": 224,
          "w": 22
         },
         {
          "h": 10,
          "value": 213,
          "w": 22
         },
         {
          "h": 11,
          "value": 224,
          "w": 22
         },
         {
          "h": 12,
          "value": 222,
          "w": 22
         },
         {
          "h": 13,
          "value": 234,
          "w": 22
         },
         {
          "h": 14,
          "value": 229,
          "w": 22
         },
         {
          "h": 15,
          "value": 219,
          "w": 22
         },
         {
          "h": 16,
          "value": 250,
          "w": 22
         },
         {
          "h": 17,
          "value": 221,
          "w": 22
         },
         {
          "h": 18,
          "value": 204,
          "w": 22
         },
         {
          "h": 19,
          "value": 217,
          "w": 22
         },
         {
          "h": 20,
          "value": 209,
          "w": 22
         },
         {
          "h": 21,
          "value": 177,
          "w": 22
         },
         {
          "h": 22,
          "value": 176,
          "w": 22
         },
         {
          "h": 23,
          "value": 188,
          "w": 22
         },
         {
          "h": 24,
          "value": 166,
          "w": 22
         },
         {
          "h": 25,
          "value": 0,
          "w": 22
         },
         {
          "h": 26,
          "value": 0,
          "w": 22
         },
         {
          "h": 27,
          "value": 0,
          "w": 22
         },
         {
          "h": 0,
          "value": 0,
          "w": 23
         },
         {
          "h": 1,
          "value": 0,
          "w": 23
         },
         {
          "h": 2,
          "value": 0,
          "w": 23
         },
         {
          "h": 3,
          "value": 0,
          "w": 23
         },
         {
          "h": 4,
          "value": 3,
          "w": 23
         },
         {
          "h": 5,
          "value": 0,
          "w": 23
         },
         {
          "h": 6,
          "value": 23,
          "w": 23
         },
         {
          "h": 7,
          "value": 146,
          "w": 23
         },
         {
          "h": 8,
          "value": 127,
          "w": 23
         },
         {
          "h": 9,
          "value": 221,
          "w": 23
         },
         {
          "h": 10,
          "value": 223,
          "w": 23
         },
         {
          "h": 11,
          "value": 212,
          "w": 23
         },
         {
          "h": 12,
          "value": 220,
          "w": 23
         },
         {
          "h": 13,
          "value": 217,
          "w": 23
         },
         {
          "h": 14,
          "value": 215,
          "w": 23
         },
         {
          "h": 15,
          "value": 215,
          "w": 23
         },
         {
          "h": 16,
          "value": 248,
          "w": 23
         },
         {
          "h": 17,
          "value": 211,
          "w": 23
         },
         {
          "h": 18,
          "value": 209,
          "w": 23
         },
         {
          "h": 19,
          "value": 223,
          "w": 23
         },
         {
          "h": 20,
          "value": 222,
          "w": 23
         },
         {
          "h": 21,
          "value": 172,
          "w": 23
         },
         {
          "h": 22,
          "value": 156,
          "w": 23
         },
         {
          "h": 23,
          "value": 194,
          "w": 23
         },
         {
          "h": 24,
          "value": 168,
          "w": 23
         },
         {
          "h": 25,
          "value": 0,
          "w": 23
         },
         {
          "h": 26,
          "value": 0,
          "w": 23
         },
         {
          "h": 27,
          "value": 0,
          "w": 23
         },
         {
          "h": 0,
          "value": 0,
          "w": 24
         },
         {
          "h": 1,
          "value": 0,
          "w": 24
         },
         {
          "h": 2,
          "value": 0,
          "w": 24
         },
         {
          "h": 3,
          "value": 0,
          "w": 24
         },
         {
          "h": 4,
          "value": 4,
          "w": 24
         },
         {
          "h": 5,
          "value": 0,
          "w": 24
         },
         {
          "h": 6,
          "value": 77,
          "w": 24
         },
         {
          "h": 7,
          "value": 141,
          "w": 24
         },
         {
          "h": 8,
          "value": 123,
          "w": 24
         },
         {
          "h": 9,
          "value": 223,
          "w": 24
         },
         {
          "h": 10,
          "value": 220,
          "w": 24
         },
         {
          "h": 11,
          "value": 226,
          "w": 24
         },
         {
          "h": 12,
          "value": 245,
          "w": 24
         },
         {
          "h": 13,
          "value": 217,
          "w": 24
         },
         {
          "h": 14,
          "value": 218,
          "w": 24
         },
         {
          "h": 15,
          "value": 224,
          "w": 24
         },
         {
          "h": 16,
          "value": 233,
          "w": 24
         },
         {
          "h": 17,
          "value": 220,
          "w": 24
         },
         {
          "h": 18,
          "value": 222,
          "w": 24
         },
         {
          "h": 19,
          "value": 223,
          "w": 24
         },
         {
          "h": 20,
          "value": 220,
          "w": 24
         },
         {
          "h": 21,
          "value": 181,
          "w": 24
         },
         {
          "h": 22,
          "value": 167,
          "w": 24
         },
         {
          "h": 23,
          "value": 192,
          "w": 24
         },
         {
          "h": 24,
          "value": 99,
          "w": 24
         },
         {
          "h": 25,
          "value": 0,
          "w": 24
         },
         {
          "h": 26,
          "value": 0,
          "w": 24
         },
         {
          "h": 27,
          "value": 0,
          "w": 24
         },
         {
          "h": 0,
          "value": 0,
          "w": 25
         },
         {
          "h": 1,
          "value": 0,
          "w": 25
         },
         {
          "h": 2,
          "value": 0,
          "w": 25
         },
         {
          "h": 3,
          "value": 1,
          "w": 25
         },
         {
          "h": 4,
          "value": 0,
          "w": 25
         },
         {
          "h": 5,
          "value": 12,
          "w": 25
         },
         {
          "h": 6,
          "value": 130,
          "w": 25
         },
         {
          "h": 7,
          "value": 88,
          "w": 25
         },
         {
          "h": 8,
          "value": 196,
          "w": 25
         },
         {
          "h": 9,
          "value": 245,
          "w": 25
         },
         {
          "h": 10,
          "value": 243,
          "w": 25
         },
         {
          "h": 11,
          "value": 197,
          "w": 25
         },
         {
          "h": 12,
          "value": 119,
          "w": 25
         },
         {
          "h": 13,
          "value": 209,
          "w": 25
         },
         {
          "h": 14,
          "value": 255,
          "w": 25
         },
         {
          "h": 15,
          "value": 244,
          "w": 25
         },
         {
          "h": 16,
          "value": 238,
          "w": 25
         },
         {
          "h": 17,
          "value": 232,
          "w": 25
         },
         {
          "h": 18,
          "value": 228,
          "w": 25
         },
         {
          "h": 19,
          "value": 224,
          "w": 25
         },
         {
          "h": 20,
          "value": 221,
          "w": 25
         },
         {
          "h": 21,
          "value": 205,
          "w": 25
         },
         {
          "h": 22,
          "value": 177,
          "w": 25
         },
         {
          "h": 23,
          "value": 216,
          "w": 25
         },
         {
          "h": 24,
          "value": 58,
          "w": 25
         },
         {
          "h": 25,
          "value": 0,
          "w": 25
         },
         {
          "h": 26,
          "value": 0,
          "w": 25
         },
         {
          "h": 27,
          "value": 0,
          "w": 25
         },
         {
          "h": 0,
          "value": 0,
          "w": 26
         },
         {
          "h": 1,
          "value": 0,
          "w": 26
         },
         {
          "h": 2,
          "value": 0,
          "w": 26
         },
         {
          "h": 3,
          "value": 1,
          "w": 26
         },
         {
          "h": 4,
          "value": 0,
          "w": 26
         },
         {
          "h": 5,
          "value": 10,
          "w": 26
         },
         {
          "h": 6,
          "value": 72,
          "w": 26
         },
         {
          "h": 7,
          "value": 172,
          "w": 26
         },
         {
          "h": 8,
          "value": 229,
          "w": 26
         },
         {
          "h": 9,
          "value": 173,
          "w": 26
         },
         {
          "h": 10,
          "value": 202,
          "w": 26
         },
         {
          "h": 11,
          "value": 209,
          "w": 26
         },
         {
          "h": 12,
          "value": 167,
          "w": 26
         },
         {
          "h": 13,
          "value": 92,
          "w": 26
         },
         {
          "h": 14,
          "value": 77,
          "w": 26
         },
         {
          "h": 15,
          "value": 159,
          "w": 26
         },
         {
          "h": 16,
          "value": 215,
          "w": 26
         },
         {
          "h": 17,
          "value": 246,
          "w": 26
         },
         {
          "h": 18,
          "value": 225,
          "w": 26
         },
         {
          "h": 19,
          "value": 229,
          "w": 26
         },
         {
          "h": 20,
          "value": 230,
          "w": 26
         },
         {
          "h": 21,
          "value": 206,
          "w": 26
         },
         {
          "h": 22,
          "value": 210,
          "w": 26
         },
         {
          "h": 23,
          "value": 170,
          "w": 26
         },
         {
          "h": 24,
          "value": 0,
          "w": 26
         },
         {
          "h": 25,
          "value": 0,
          "w": 26
         },
         {
          "h": 26,
          "value": 0,
          "w": 26
         },
         {
          "h": 27,
          "value": 0,
          "w": 26
         },
         {
          "h": 0,
          "value": 0,
          "w": 27
         },
         {
          "h": 1,
          "value": 0,
          "w": 27
         },
         {
          "h": 2,
          "value": 0,
          "w": 27
         },
         {
          "h": 3,
          "value": 0,
          "w": 27
         },
         {
          "h": 4,
          "value": 3,
          "w": 27
         },
         {
          "h": 5,
          "value": 0,
          "w": 27
         },
         {
          "h": 6,
          "value": 15,
          "w": 27
         },
         {
          "h": 7,
          "value": 66,
          "w": 27
         },
         {
          "h": 8,
          "value": 0,
          "w": 27
         },
         {
          "h": 9,
          "value": 0,
          "w": 27
         },
         {
          "h": 10,
          "value": 0,
          "w": 27
         },
         {
          "h": 11,
          "value": 52,
          "w": 27
         },
         {
          "h": 12,
          "value": 56,
          "w": 27
         },
         {
          "h": 13,
          "value": 0,
          "w": 27
         },
         {
          "h": 14,
          "value": 0,
          "w": 27
         },
         {
          "h": 15,
          "value": 0,
          "w": 27
         },
         {
          "h": 16,
          "value": 0,
          "w": 27
         },
         {
          "h": 17,
          "value": 0,
          "w": 27
         },
         {
          "h": 18,
          "value": 0,
          "w": 27
         },
         {
          "h": 19,
          "value": 29,
          "w": 27
         },
         {
          "h": 20,
          "value": 67,
          "w": 27
         },
         {
          "h": 21,
          "value": 115,
          "w": 27
         },
         {
          "h": 22,
          "value": 92,
          "w": 27
         },
         {
          "h": 23,
          "value": 0,
          "w": 27
         },
         {
          "h": 24,
          "value": 0,
          "w": 27
         },
         {
          "h": 25,
          "value": 0,
          "w": 27
         },
         {
          "h": 26,
          "value": 0,
          "w": 27
         },
         {
          "h": 27,
          "value": 0,
          "w": 27
         }
        ]
       },
       "encoding": {
        "color": {
         "field": "value",
         "legend": null,
         "scale": {
          "scheme": "greys"
         },
         "sort": "descending",
         "type": "quantitative"
        },
        "tooltip": [
         {
          "field": "value",
          "type": "quantitative"
         }
        ],
        "x": {
         "axis": null,
         "field": "w",
         "type": "nominal"
        },
        "y": {
         "axis": null,
         "field": "h",
         "type": "nominal"
        }
       },
       "height": 350,
       "mark": "rect",
       "title": "",
       "width": 350
      },
      "text/plain": [
       "<VegaLite 2 object>\n",
       "\n",
       "If you see this message, it means the renderer has not been properly enabled\n",
       "for the frontend that you are using. For more information, see\n",
       "https://altair-viz.github.io/user_guide/troubleshooting.html\n"
      ]
     },
     "execution_count": 25,
     "metadata": {},
     "output_type": "execute_result"
    }
   ],
   "source": [
    "vis.imshow(x_train[0])"
   ]
  },
  {
   "cell_type": "code",
   "execution_count": 29,
   "metadata": {},
   "outputs": [
    {
     "name": "stdout",
     "output_type": "stream",
     "text": [
      "2\n"
     ]
    },
    {
     "data": {
      "text/plain": [
       "(<matplotlib.image.AxesImage at 0x7fc5b5653518>, None)"
      ]
     },
     "execution_count": 29,
     "metadata": {},
     "output_type": "execute_result"
    },
    {
     "data": {
      "image/png": "[encoded data removed]",
      "text/plain": [
       "<Figure size 432x288 with 1 Axes>"
      ]
     },
     "metadata": {
      "needs_background": "light"
     },
     "output_type": "display_data"
    }
   ],
   "source": [
    "number = 125\n",
    "plt.imshow(x_train[number],cmap=\"gray\"), print(y_train[number])"
   ]
  },
  {
   "cell_type": "code",
   "execution_count": 30,
   "metadata": {},
   "outputs": [
    {
     "data": {
      "text/plain": [
       "8"
      ]
     },
     "execution_count": 30,
     "metadata": {},
     "output_type": "execute_result"
    }
   ],
   "source": [
    "y_train[100]"
   ]
  },
  {
   "cell_type": "code",
   "execution_count": 31,
   "metadata": {},
   "outputs": [
    {
     "data": {
      "text/plain": [
       "((60000, 28, 28, 1), (10000, 28, 28, 1))"
      ]
     },
     "execution_count": 31,
     "metadata": {},
     "output_type": "execute_result"
    }
   ],
   "source": [
    "x_train_conv = x_train.reshape(x_train.shape[0],28,28,1)\n",
    "x_test_conv = x_test.reshape(x_test.shape[0], 28, 28, 1)\n",
    "x_train_conv.shape, x_test_conv.shape"
   ]
  },
  {
   "cell_type": "markdown",
   "metadata": {},
   "source": [
    "# categorical data"
   ]
  },
  {
   "cell_type": "code",
   "execution_count": 32,
   "metadata": {},
   "outputs": [],
   "source": [
    "from keras.utils import to_categorical"
   ]
  },
  {
   "cell_type": "code",
   "execution_count": 33,
   "metadata": {},
   "outputs": [],
   "source": [
    "y_train_class = to_categorical(y_train,10)\n",
    "y_test_class = to_categorical(y_test, 10)"
   ]
  },
  {
   "cell_type": "code",
   "execution_count": 34,
   "metadata": {},
   "outputs": [
    {
     "data": {
      "text/plain": [
       "((60000, 10), (10000, 10))"
      ]
     },
     "execution_count": 34,
     "metadata": {},
     "output_type": "execute_result"
    }
   ],
   "source": [
    "y_train_class.shape, y_test_class.shape"
   ]
  },
  {
   "cell_type": "markdown",
   "metadata": {},
   "source": [
    "# CNN Model"
   ]
  },
  {
   "cell_type": "code",
   "execution_count": 35,
   "metadata": {},
   "outputs": [],
   "source": [
    "from keras.models import Sequential\n",
    "from keras.layers import Dense, Flatten, Conv2D, MaxPooling2D, Dropout"
   ]
  },
  {
   "cell_type": "code",
   "execution_count": 36,
   "metadata": {},
   "outputs": [],
   "source": [
    "cnn = Sequential()"
   ]
  },
  {
   "cell_type": "code",
   "execution_count": 37,
   "metadata": {},
   "outputs": [],
   "source": [
    "cnn.add(Conv2D(32, kernel_size=(3,3), activation=\"relu\", input_shape=(28,28,1)))"
   ]
  },
  {
   "cell_type": "code",
   "execution_count": 38,
   "metadata": {},
   "outputs": [],
   "source": [
    "cnn.add(MaxPooling2D(pool_size=(2,2)))\n",
    "cnn.add(Conv2D(64, kernel_size=(3,3), activation=\"relu\"))"
   ]
  },
  {
   "cell_type": "code",
   "execution_count": 39,
   "metadata": {},
   "outputs": [],
   "source": [
    "cnn.add(MaxPooling2D(pool_size=(2,2)))\n",
    "cnn.add(Flatten())\n"
   ]
  },
  {
   "cell_type": "code",
   "execution_count": 40,
   "metadata": {},
   "outputs": [],
   "source": [
    "cnn.add(Dense(128, activation=\"relu\"))"
   ]
  },
  {
   "cell_type": "code",
   "execution_count": 41,
   "metadata": {},
   "outputs": [],
   "source": [
    "cnn.add(Dropout(0.25))\n",
    "cnn.add(Dense(10, activation=\"softmax\"))"
   ]
  },
  {
   "cell_type": "code",
   "execution_count": 42,
   "metadata": {},
   "outputs": [
    {
     "name": "stdout",
     "output_type": "stream",
     "text": [
      "_________________________________________________________________\n",
      "Layer (type)                 Output Shape              Param #   \n",
      "=================================================================\n",
      "conv2d_1 (Conv2D)            (None, 26, 26, 32)        320       \n",
      "_________________________________________________________________\n",
      "max_pooling2d_1 (MaxPooling2 (None, 13, 13, 32)        0         \n",
      "_________________________________________________________________\n",
      "conv2d_2 (Conv2D)            (None, 11, 11, 64)        18496     \n",
      "_________________________________________________________________\n",
      "max_pooling2d_2 (MaxPooling2 (None, 5, 5, 64)          0         \n",
      "_________________________________________________________________\n",
      "flatten_1 (Flatten)          (None, 1600)              0         \n",
      "_________________________________________________________________\n",
      "dense_1 (Dense)              (None, 128)               204928    \n",
      "_________________________________________________________________\n",
      "dropout_1 (Dropout)          (None, 128)               0         \n",
      "_________________________________________________________________\n",
      "dense_2 (Dense)              (None, 10)                1290      \n",
      "=================================================================\n",
      "Total params: 225,034\n",
      "Trainable params: 225,034\n",
      "Non-trainable params: 0\n",
      "_________________________________________________________________\n"
     ]
    }
   ],
   "source": [
    "cnn.summary()"
   ]
  },
  {
   "cell_type": "code",
   "execution_count": 43,
   "metadata": {},
   "outputs": [],
   "source": [
    "cnn.compile(loss=\"categorical_crossentropy\", optimizer=\"sgd\", metrics=[\"accuracy\"])"
   ]
  },
  {
   "cell_type": "code",
   "execution_count": 44,
   "metadata": {},
   "outputs": [
    {
     "name": "stdout",
     "output_type": "stream",
     "text": [
      "Train on 60000 samples, validate on 10000 samples\n",
      "Epoch 1/10\n",
      "60000/60000 [==============================] - 159s 3ms/step - loss: 14.4618 - acc: 0.1025 - val_loss: 14.5063 - val_acc: 0.1000\n",
      "Epoch 2/10\n",
      "60000/60000 [==============================] - 159s 3ms/step - loss: 14.1771 - acc: 0.1203 - val_loss: 14.5047 - val_acc: 0.1001\n",
      "Epoch 3/10\n",
      "60000/60000 [==============================] - 162s 3ms/step - loss: 14.1260 - acc: 0.1236 - val_loss: 14.5063 - val_acc: 0.1000\n",
      "Epoch 4/10\n",
      "60000/60000 [==============================] - 155s 3ms/step - loss: 14.4464 - acc: 0.1037 - val_loss: 14.5063 - val_acc: 0.1000\n",
      "Epoch 5/10\n",
      "60000/60000 [==============================] - 157s 3ms/step - loss: 14.4507 - acc: 0.1035 - val_loss: 14.5063 - val_acc: 0.1000\n",
      "Epoch 6/10\n",
      "60000/60000 [==============================] - 154s 3ms/step - loss: 14.4448 - acc: 0.1038 - val_loss: 14.5063 - val_acc: 0.1000\n",
      "Epoch 7/10\n",
      "60000/60000 [==============================] - 121s 2ms/step - loss: 14.4426 - acc: 0.1040 - val_loss: 14.5063 - val_acc: 0.1000\n",
      "Epoch 8/10\n",
      "60000/60000 [==============================] - 91s 2ms/step - loss: 14.0635 - acc: 0.1275 - val_loss: 12.9461 - val_acc: 0.1968\n",
      "Epoch 9/10\n",
      "60000/60000 [==============================] - 75s 1ms/step - loss: 14.1411 - acc: 0.1227 - val_loss: 14.5063 - val_acc: 0.1000\n",
      "Epoch 10/10\n",
      "60000/60000 [==============================] - 60s 992us/step - loss: 14.5063 - acc: 0.1000 - val_loss: 14.5063 - val_acc: 0.1000\n"
     ]
    }
   ],
   "source": [
    "output_cnn = cnn.fit(x_train_conv, y_train_class, batch_size=128, epochs=10, validation_data=(x_test_conv, y_test_class))"
   ]
  },
  {
   "cell_type": "markdown",
   "metadata": {},
   "source": [
    "# lets predict"
   ]
  },
  {
   "cell_type": "code",
   "execution_count": 46,
   "metadata": {},
   "outputs": [],
   "source": [
    "y_pred= cnn.predict_classes(x_test_conv)"
   ]
  },
  {
   "cell_type": "code",
   "execution_count": 47,
   "metadata": {},
   "outputs": [
    {
     "data": {
      "text/plain": [
       "(10000,)"
      ]
     },
     "execution_count": 47,
     "metadata": {},
     "output_type": "execute_result"
    }
   ],
   "source": [
    "y_pred.shape"
   ]
  },
  {
   "cell_type": "code",
   "execution_count": 55,
   "metadata": {},
   "outputs": [],
   "source": [
    "x_temp= x_test[2]"
   ]
  },
  {
   "cell_type": "code",
   "execution_count": 56,
   "metadata": {},
   "outputs": [
    {
     "data": {
      "text/plain": [
       "<matplotlib.image.AxesImage at 0x7fc5acdae978>"
      ]
     },
     "execution_count": 56,
     "metadata": {},
     "output_type": "execute_result"
    },
    {
     "data": {
      "image/png": "[encoded data removed]",
      "text/plain": [
       "<Figure size 432x288 with 1 Axes>"
      ]
     },
     "metadata": {
      "needs_background": "light"
     },
     "output_type": "display_data"
    }
   ],
   "source": [
    "plt.imshow(x_temp)"
   ]
  },
  {
   "cell_type": "code",
   "execution_count": 60,
   "metadata": {},
   "outputs": [
    {
     "data": {
      "text/plain": [
       "5"
      ]
     },
     "execution_count": 60,
     "metadata": {},
     "output_type": "execute_result"
    }
   ],
   "source": [
    "y_pred[2]"
   ]
  },
  {
   "cell_type": "code",
   "execution_count": 59,
   "metadata": {},
   "outputs": [
    {
     "ename": "NameError",
     "evalue": "name 'y_orig' is not defined",
     "output_type": "error",
     "traceback": [
      "\u001b[0;31m---------------------------------------------------------------------------\u001b[0m",
      "\u001b[0;31mNameError\u001b[0m                                 Traceback (most recent call last)",
      "\u001b[0;32m<ipython-input-59-35c3f6f33d42>\u001b[0m in \u001b[0;36m<module>\u001b[0;34m\u001b[0m\n\u001b[0;32m----> 1\u001b[0;31m \u001b[0mi_i\u001b[0m \u001b[0;34m=\u001b[0m \u001b[0mnp\u001b[0m\u001b[0;34m.\u001b[0m\u001b[0mnonzero\u001b[0m\u001b[0;34m(\u001b[0m\u001b[0my_pred\u001b[0m \u001b[0;34m!=\u001b[0m \u001b[0my_orig\u001b[0m\u001b[0;34m)\u001b[0m\u001b[0;34m[\u001b[0m\u001b[0;36m0\u001b[0m\u001b[0;34m]\u001b[0m\u001b[0;34m\u001b[0m\u001b[0;34m\u001b[0m\u001b[0m\n\u001b[0m",
      "\u001b[0;31mNameError\u001b[0m: name 'y_orig' is not defined"
     ]
    }
   ],
   "source": [
    "i_i = np.nonzero(y_pred != y_orig)[0]"
   ]
  },
  {
   "cell_type": "code",
   "execution_count": null,
   "metadata": {},
   "outputs": [],
   "source": []
  }
 ],
 "metadata": {
  "kernelspec": {
   "display_name": "Python 3",
   "language": "python",
   "name": "python3"
  },
  "language_info": {
   "codemirror_mode": {
    "name": "ipython",
    "version": 3
   },
   "file_extension": ".py",
   "mimetype": "text/x-python",
   "name": "python",
   "nbconvert_exporter": "python",
   "pygments_lexer": "ipython3",
   "version": "3.6.7"
  }
 },
 "nbformat": 4,
 "nbformat_minor": 2
}
